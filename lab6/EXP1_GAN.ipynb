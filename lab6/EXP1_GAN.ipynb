{
 "cells": [
  {
   "cell_type": "markdown",
   "id": "182c0184-9a89-4865-b757-7f1d82074608",
   "metadata": {},
   "source": [
    "### 请仔细阅读相关文档并补充完整下面的代码。在需要补充的部分已经标注#TODO并附上相应的内容提示。"
   ]
  },
  {
   "cell_type": "code",
   "execution_count": 2,
   "id": "00962a4b-bd60-4548-bcbe-722e47dee919",
   "metadata": {},
   "outputs": [],
   "source": [
    "# 导入必要的库\n",
    "import torch  # PyTorch 深度学习框架\n",
    "import torch.nn as nn  # 神经网络相关模块\n",
    "import numpy as np  # 数值计算库\n",
    "from torch.utils.data import DataLoader  # 处理数据加载\n",
    "import torchvision\n",
    "from torchvision import datasets, transforms  # 处理图像数据集和数据变换\n",
    "from torchvision.utils import save_image  # 保存生成的图像\n",
    "import os  # 处理文件和目录操作\n",
    "from torch.utils.tensorboard import SummaryWriter  # TensorBoard"
   ]
  },
  {
   "cell_type": "markdown",
   "id": "4c90ebb0-5141-459b-a351-237512596a70",
   "metadata": {},
   "source": [
    "#### 根据文档和提示，补充完整生成器Generator和判别器Discriminator代码："
   ]
  },
  {
   "cell_type": "code",
   "execution_count": null,
   "id": "b6cf4362-719c-4e80-bf3a-6a82b93d9160",
   "metadata": {},
   "outputs": [],
   "source": [
    "# =============================== 生成器（Generator） ===============================\n",
    "class Generator(nn.Module):\n",
    "    def __init__(self, input_dim, hidden_dim, output_dim):\n",
    "        super(Generator, self).__init__()\n",
    "        self.model = nn.Sequential(\n",
    "            #TODO           # 使用线性层将随机噪声映射到第一个隐藏层\n",
    "            nn.ReLU(),      # 使用 ReLU 作为激活函数，帮助模型学习非线性特征\n",
    "            #TODO           # 使用线性层将第一个隐藏层映射到第二个隐藏层\n",
    "            nn.ReLU(),      # 再次使用 ReLU 激活函数\n",
    "            #TODO           # 使用线性层将第二个隐藏层映射到输出层，输出为图像的像素大小\n",
    "            nn.Tanh()       # 使用 Tanh 将输出归一化到 [-1, 1]，适用于图像生成\n",
    "        )\n",
    "\n",
    "    def forward(self, x):\n",
    "        #TODO               # 前向传播：将输入 x 通过模型进行计算，得到生成的图像\n",
    "        \n",
    "\n",
    "# =============================== 判别器（Discriminator） ===============================\n",
    "class Discriminator(nn.Module):\n",
    "    def __init__(self, input_dim, hidden_dim):\n",
    "        super(Discriminator, self).__init__()\n",
    "        self.model = nn.Sequential(\n",
    "            #TODO   # 输入层到第一个隐藏层，使用线性层\n",
    "            #TODO   # 使用 LeakyReLU 激活函数，避免梯度消失问题，negative_slope参数设置为0.1\n",
    "            #TODO   # 第一个隐藏层到第二个隐藏层，使用线性层\n",
    "            #TODO   # 再次使用 LeakyReLU 激活函数，negative_slope参数设置为0.1\n",
    "            #TODO   # 第二个隐藏层到输出层，使用线性层\n",
    "            #TODO   # 使用 Sigmoid 激活函数，将输出范围限制在 [0, 1]\n",
    "        )\n",
    "\n",
    "    def forward(self, x):\n",
    "        #TODO       # 前向传播：将输入 x 通过模型进行计算，得到判别结果"
   ]
  },
  {
   "cell_type": "markdown",
   "id": "7b3c8c02-55ac-4d45-a2ce-ae92054b0b94",
   "metadata": {},
   "source": [
    "#### 补充完整主函数，在主函数中完成以下过程：\n",
    "1. 数据加载：\n",
    "加载并预处理数据集。对于GAN的训练，通常需要将数据集转换为张量格式，并进行适当的归一化。\n",
    "2. 模型初始化：\n",
    "创建生成器和判别器模型实例，并将它们移动到合适的设备（如GPU）上。\n",
    "3. 优化器和损失函数定义：\n",
    "为生成器和判别器分别定义优化器（如Adam），并设置适当的学习率和其他超参数。\n",
    "定义损失函数（如二元交叉熵损失）用于评估模型性能。\n",
    "4. 训练循环：\n",
    "迭代多个epoch进行训练。在每个epoch中，遍历数据集并进行以下操作：\n",
    "   * 训练判别器：使用真实数据和生成的假数据更新判别器的参数。\n",
    "   * 训练生成器：通过生成假数据并试图欺骗判别器来更新生成器的参数。\n",
    "   * 记录损失值到TensorBoard，以监控训练过程。\n",
    "5. 结果保存：\n",
    "在每个epoch结束时，生成一些示例图像并保存到TensorBoard，以便观察生成器的进展。\n"
   ]
  },
  {
   "cell_type": "code",
   "execution_count": null,
   "id": "81ba6a78-bb23-4459-887e-d9cd27fd9d92",
   "metadata": {},
   "outputs": [],
   "source": [
    "# =============================== 主函数 ===============================\n",
    "def main():\n",
    "\n",
    "    # 设备配置：使用 GPU（如果可用），否则使用 CPU\n",
    "    device = torch.device('cuda:0' if torch.cuda.is_available() else 'cpu')\n",
    "\n",
    "    # 设置模型和训练的超参数\n",
    "    input_dim = 100  # 生成器输入的随机噪声向量维度\n",
    "    hidden_dim = 256  # 隐藏层维度\n",
    "    output_dim = 28 * 28  # MNIST 数据集图像尺寸（28x28）\n",
    "    batch_size = 128  # 训练时的批量大小\n",
    "    num_epoch = 30 # 训练的总轮数\n",
    "    \n",
    "    # 加载 MNIST 数据集\n",
    "    train_dataset = datasets.MNIST(root=\"./data/\", train=True, transform=transforms.ToTensor(), download=True)\n",
    "    train_loader = DataLoader(dataset=train_dataset, batch_size=batch_size, shuffle=True)\n",
    "\n",
    "    # 创建生成器G和判别器D，并移动到 GPU（如果可用）\n",
    "    #TODO   # 生成器G\n",
    "    #TOOD   # 判别器D\n",
    "\n",
    "    # 定义针对生成器G的优化器optim_G和针对判别器D的优化器optim_D，要求使用Adam优化器，学习率设置为0.0002\n",
    "    #TODO  # 生成器优化器optim_G\n",
    "    #TODO  # 判别器优化器optim_D\n",
    "\n",
    "\n",
    "    loss_func = nn.BCELoss()  # 使用二元交叉熵损失\n",
    "\n",
    "    # 初始化 TensorBoard\n",
    "    writer = SummaryWriter(log_dir='./logs/experiment_gan')\n",
    "\n",
    "    # 开始训练\n",
    "    for epoch in range(num_epoch):\n",
    "        total_loss_D, total_loss_G = 0, 0\n",
    "        for i, (real_images, _) in enumerate(train_loader):\n",
    "            loss_D = train_discriminator(real_images, D, G, loss_func, optim_D, batch_size, input_dim, device)  # 训练判别器\n",
    "            loss_G = train_generator(D, G, loss_func, optim_G, batch_size, input_dim, device)  # 训练生成器\n",
    "\n",
    "            total_loss_D += loss_D\n",
    "            total_loss_G += loss_G\n",
    "\n",
    "            # 每 100 步打印一次损失\n",
    "            if (i + 1) % 100 == 0 or (i + 1) == len(train_loader):\n",
    "                print(f'Epoch {epoch:02d} | Step {i + 1:04d} / {len(train_loader)} | Loss_D {total_loss_D / (i + 1):.4f} | Loss_G {total_loss_G / (i + 1):.4f}')\n",
    "\n",
    "            # 记录每个epoch的平均损失到 TensorBoard\n",
    "        writer.add_scalar('GAN/Loss/Discriminator', total_loss_D / len(train_loader), epoch)\n",
    "        writer.add_scalar('GAN/Loss/Generator', total_loss_G / len(train_loader), epoch)\n",
    "\n",
    "        # 生成并保存示例图像\n",
    "        with torch.no_grad():\n",
    "            noise = torch.randn(64, input_dim, device=device)\n",
    "            fake_images = G(noise).view(-1, 1, 28, 28)  # 调整形状为图像格式\n",
    "\n",
    "            # 记录生成的图像到 TensorBoard\n",
    "            img_grid = torchvision.utils.make_grid(fake_images, normalize=True)\n",
    "            writer.add_image('Generated Images', img_grid, epoch)"
   ]
  },
  {
   "cell_type": "markdown",
   "id": "398c7c41-7bac-44fc-ac26-afc74ca5bb1b",
   "metadata": {},
   "source": [
    "#### 根据文档中描述的GAN的损失函数和二元交叉熵损失相关内容，补充完善Discriminator和Generator的训练过程："
   ]
  },
  {
   "cell_type": "code",
   "execution_count": 4,
   "id": "5f5a857d-bd53-45e2-a5ac-0540ff6bd4d2",
   "metadata": {},
   "outputs": [],
   "source": [
    "# =============================== 训练判别器 ===============================\n",
    "def train_discriminator(real_images, D, G, loss_func, optim_D, batch_size, input_dim, device):\n",
    "    '''训练判别器'''\n",
    "    real_images = real_images.view(-1, 28 * 28).to(device)  # 获取真实图像并展平\n",
    "    real_output = D(real_images)  # 判别器预测真实图像\n",
    "    #TODO   # 计算真实样本的损失real_loss\n",
    "\n",
    "    noise = torch.randn(batch_size, input_dim, device=device)  # 生成随机噪声\n",
    "    fake_images = G(noise).detach()  # 生成假图像（detach 避免梯度传递给 G）\n",
    "    fake_output = D(fake_images)  # 判别器预测假图像\n",
    "    #TODO   # 计算假样本的损失fake_loss\n",
    "\n",
    "    loss_D = real_loss + fake_loss  # 判别器总损失\n",
    "    optim_D.zero_grad()  # 清空梯度\n",
    "    loss_D.backward()  # 反向传播\n",
    "    optim_D.step()  # 更新判别器参数\n",
    "\n",
    "    return loss_D.item()  # 返回标量损失\n",
    "\n",
    "# =============================== 训练生成器 ===============================\n",
    "def train_generator(D, G, loss_func, optim_G, batch_size, input_dim, device):\n",
    "    '''训练生成器'''\n",
    "    noise = torch.randn(batch_size, input_dim, device=device)  # 生成随机噪声\n",
    "    fake_images = G(noise)  # 生成假图像\n",
    "    fake_output = D(fake_images)  # 判别器对假图像的判断\n",
    "    #TODO # 计算生成器损失（希望生成的图像判别为真）\n",
    "\n",
    "    optim_G.zero_grad()  # 清空梯度\n",
    "    loss_G.backward()  # 反向传播\n",
    "    optim_G.step()  # 更新生成器参数\n",
    "\n",
    "    return loss_G.item()  # 返回标量损失"
   ]
  },
  {
   "cell_type": "markdown",
   "id": "4aa3ba6b-83bb-47b7-83c9-f9b638fec84b",
   "metadata": {},
   "source": [
    "#### 程序执行入口"
   ]
  },
  {
   "cell_type": "code",
   "execution_count": null,
   "id": "dbb95181-1b74-40e6-b972-1372d6618cf3",
   "metadata": {},
   "outputs": [],
   "source": [
    "if __name__ == '__main__':\n",
    "    main()"
   ]
  }
 ],
 "metadata": {
  "kernelspec": {
   "display_name": "Python 3 (ipykernel)",
   "language": "python",
   "name": "python3"
  },
  "language_info": {
   "codemirror_mode": {
    "name": "ipython",
    "version": 3
   },
   "file_extension": ".py",
   "mimetype": "text/x-python",
   "name": "python",
   "nbconvert_exporter": "python",
   "pygments_lexer": "ipython3",
   "version": "3.10.14"
  }
 },
 "nbformat": 4,
 "nbformat_minor": 5
}
