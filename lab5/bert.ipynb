{
 "cells": [
  {
   "cell_type": "markdown",
   "id": "6376419e",
   "metadata": {},
   "source": [
    "# 实验任务一: 预训练模型\n",
    "\n",
    "------\n",
    "### **1. 使用GPU训练模型**\n",
    "    \n",
    "在PyTorch中，可以使用以下代码来检测当前环境是否有可用的GPU："
   ]
  },
  {
   "cell_type": "code",
   "execution_count": null,
   "id": "c80774dd3ffa1094",
   "metadata": {},
   "outputs": [],
   "source": [
    "import torch\n",
    "\n",
    "# 检查是否有可用的GPU\n",
    "if torch.cuda.is_available():\n",
    "    print(f\"CUDA is available. Number of GPUs: {torch.cuda.device_count()}\")\n",
    "    print(f\"Current device: {torch.cuda.current_device()}\")\n",
    "    print(f\"Device name: {torch.cuda.get_device_name(torch.cuda.current_device())}\")\n",
    "else:\n",
    "    print(\"CUDA is not available. Using CPU.\")"
   ]
  },
  {
   "cell_type": "code",
   "execution_count": null,
   "id": "6ec9f32d",
   "metadata": {},
   "outputs": [],
   "source": []
  },
  {
   "cell_type": "markdown",
   "id": "19b60215ab3ff1c6",
   "metadata": {},
   "source": [
    "如果显示'CUDA is not available. Using CPU.'请确认启动的环境是否正确或者尝试重新安装pytorch或者与助教联系。\n",
    "\n",
    "把模型放到GPU上的代码示例。定义模型后，通过model = model.to(device)把模型放到GPU上。"
   ]
  },
  {
   "cell_type": "code",
   "execution_count": null,
   "id": "53934bc9f7ef22dc",
   "metadata": {},
   "outputs": [],
   "source": [
    "# 检查是否有可用的GPU\n",
    "device = torch.device('cuda' if torch.cuda.is_available() else 'cpu')\n",
    "\n",
    "# 创建模型\n",
    "model = SimpleModel()\n",
    "\n",
    "# 将模型放到GPU（如果可用）\n",
    "model = model.to(device)"
   ]
  },
  {
   "cell_type": "markdown",
   "id": "99a882d68a5c1bc1",
   "metadata": {},
   "source": [
    "把数据放到GPU上的代码示例。由于模型在GPU上，所以数据也必须在GPU上才能送入模型。通过inputs = inputs.to(device)把input放到GPU上。\n",
    "\n",
    "值得说明的是由于模型的输出也在GPU上，所以标签也需要放到GPU上以便于计算损失，通过labels = labels.to(device)。"
   ]
  },
  {
   "cell_type": "code",
   "execution_count": null,
   "id": "d6b5ddd0f9529874",
   "metadata": {},
   "outputs": [],
   "source": [
    "import torch\n",
    "import torch.nn as nn\n",
    "import torch.optim as optim\n",
    "from torch.utils.data import DataLoader\n",
    "\n",
    "# 训练示例\n",
    "num_epochs = 3\n",
    "for epoch in range(num_epochs):\n",
    "    model.train()\n",
    "    for inputs, labels in train_loader:\n",
    "        # 将数据放到GPU（如果可用）\n",
    "        inputs, labels = inputs.to(device), labels.to(device)\n",
    "\n",
    "        # 前向传播\n",
    "        outputs = model(inputs)"
   ]
  },
  {
   "cell_type": "markdown",
   "id": "cb4903a10ae02a3a",
   "metadata": {},
   "source": [
    "通过上述过程，我们可以把数据和模型都放到GPU上从而加速训练。\n",
    "\n",
    "你可以使用以下命令查看是否使用了GPU并且观察的GPU利用率：\n",
    "\n",
    "watch -n 5 nvidia-smi\n",
    "\n",
    "这个命令会每5秒（-n 5）更新一次NVIDIA GPU的状态信息。"
   ]
  },
  {
   "cell_type": "code",
   "execution_count": null,
   "id": "6e0b85b6b712447e",
   "metadata": {},
   "outputs": [],
   "source": []
  },
  {
   "cell_type": "markdown",
   "id": "f9fc4bdd5c781ba3",
   "metadata": {},
   "source": [
    "### **2. 了解预训练语言模型**\n",
    "    \n",
    "下面我们以BERT为例，用的bert-base-uncased版本进行实验。我们首先用AutoModel和AutoTokenizer加载模型和分词器。分词器是把文本的每个词元映射到对应的索引，以便于BERT的embedding层完成索引到嵌入的映射。\n",
    "\n",
    "\n",
    "完整代码如下："
   ]
  },
  {
   "cell_type": "code",
   "execution_count": 3,
   "id": "15801ddc0561891a",
   "metadata": {},
   "outputs": [
    {
     "name": "stderr",
     "output_type": "stream",
     "text": [
      "Some weights of the model checkpoint at bert-base-uncased were not used when initializing BertModel: ['cls.predictions.transform.LayerNorm.bias', 'cls.predictions.transform.dense.weight', 'cls.predictions.transform.dense.bias', 'cls.seq_relationship.bias', 'cls.predictions.transform.LayerNorm.weight', 'cls.predictions.bias', 'cls.predictions.decoder.weight', 'cls.seq_relationship.weight']\n",
      "- This IS expected if you are initializing BertModel from the checkpoint of a model trained on another task or with another architecture (e.g. initializing a BertForSequenceClassification model from a BertForPreTraining model).\n",
      "- This IS NOT expected if you are initializing BertModel from the checkpoint of a model that you expect to be exactly identical (initializing a BertForSequenceClassification model from a BertForSequenceClassification model).\n"
     ]
    },
    {
     "name": "stdout",
     "output_type": "stream",
     "text": [
      "[101, 2182, 2003, 2070, 3793, 2000, 4372, 16044, 102]\n"
     ]
    },
    {
     "data": {
      "text/plain": [
       "torch.Size([1, 9, 768])"
      ]
     },
     "execution_count": 3,
     "metadata": {},
     "output_type": "execute_result"
    }
   ],
   "source": [
    "import torch\n",
    "from transformers import AutoModel, AutoTokenizer\n",
    "\n",
    "# 指定模型名称\n",
    "model_name = 'bert-base-uncased'\n",
    "\n",
    "# 读取模型对应的tokenizer\n",
    "tokenizer = AutoTokenizer.from_pretrained(model_name)\n",
    "\n",
    "# 载入模型\n",
    "model = AutoModel.from_pretrained(model_name)\n",
    "\n",
    "# 输入文本\n",
    "input_text = \"Here is some text to encode\"\n",
    "\n",
    "# 通过tokenizer把文本变成 token_id\n",
    "input_ids = tokenizer.encode(input_text, add_special_tokens=True)\n",
    "print(input_ids)\n",
    "\n",
    "# 转换为Tensor\n",
    "input_ids = torch.tensor([input_ids])\n",
    "\n",
    "# 获得BERT的输出\n",
    "with torch.no_grad():\n",
    "    output = model(input_ids)\n",
    "\n",
    "# 获得BERT模型最后一个隐层结果\n",
    "output_hidden_states = output.last_hidden_state\n",
    "output_hidden_states.shape"
   ]
  },
  {
   "cell_type": "markdown",
   "id": "13a2eb57037f0a6a",
   "metadata": {},
   "source": [
    "分词（tokenizer）的过程会在文本的头尾添加特殊token，即会在文本的开头加入词元[CLS]并且在文本的结尾加入词元[SEP]。你可以调整input_text和设置add_special_tokens=False，观察到这两个词元分别被编码为101和102。\n",
    "\n",
    "除此之外，由于批处理过程需要一个批次中文本长度相同，因此额外引入了padding。所以，我们需要使用了attention_mask屏蔽这些padding token，不让其参与自注意力的计算。\n",
    "\n",
    "最终的输出是文本中所有词元的隐藏状态（hidden states）。\n",
    "\n",
    "我们可以用model.named_parameters(): 观察模型的所有参数及其形状，完整代码如下："
   ]
  },
  {
   "cell_type": "code",
   "execution_count": null,
   "id": "e3770893f21d4b61",
   "metadata": {},
   "outputs": [],
   "source": [
    "import torch\n",
    "from transformers import AutoModel, AutoTokenizer\n",
    "\n",
    "# 指定模型名称\n",
    "model_name = 'bert-base-uncased'\n",
    "\n",
    "# 读取模型对应的tokenizer\n",
    "tokenizer = AutoTokenizer.from_pretrained(model_name)\n",
    "\n",
    "# 载入模型\n",
    "model = AutoModel.from_pretrained(model_name)\n",
    "\n",
    "# 打印模型所有参数的名称和形状\n",
    "for name, param in model.named_parameters():\n",
    "    print(f\"Parameter Name: {name}, Shape: {param.shape}\")"
   ]
  },
  {
   "cell_type": "markdown",
   "id": "c3a2916afbbd3177",
   "metadata": {},
   "source": [
    " "
   ]
  },
  {
   "cell_type": "code",
   "execution_count": null,
   "id": "fac13bc3ec5f6e38",
   "metadata": {},
   "outputs": [],
   "source": [
    "### **3. 使用预训练模型进行文本分类**\n",
    "可能需要安装transformers包\n",
    "\n",
    "pip install transformers\n",
    "\n",
    "在本章节中，你将基于上面的BERT代码和AG NEWS数据集进行基于预训练模型BERT的文本分类。你将完善下述代码同时探索多种句子聚合方式对结果的影响，其中句子聚合方式指的是从词嵌入中得到句子嵌入的过程。需要探索的句子聚合方式包括：\n",
    "\n",
    "1. 直接使用[CLS]的嵌入表示当做句子嵌入。\n",
    "2. 使用mean-pooling平均一个句子中的所有词元得到嵌入\n",
    "3. 使用注意力机制给每个词元分配一个权重，通过加权求和的方式得到嵌入。你可以使用任意注意力机制计算。"
   ]
  },
  {
   "cell_type": "markdown",
   "id": "87ebfb827793b56f",
   "metadata": {},
   "source": [
    "代码部分："
   ]
  },
  {
   "cell_type": "code",
   "execution_count": null,
   "id": "9a4457ccdc5f9c56",
   "metadata": {},
   "outputs": [],
   "source": [
    "import torch\n",
    "import pandas as pd\n",
    "import numpy as np\n",
    "from torch.utils.data import Dataset, DataLoader\n",
    "from transformers import AutoTokenizer, AutoModelForSequenceClassification, Adam\n",
    "from sklearn.model_selection import train_test_split\n",
    "from sklearn.metrics import accuracy_score\n",
    "from tqdm import tqdm\n",
    "\n",
    "# **1. 加载 AG NEWS 数据集**\n",
    "df = pd.read_csv(\"train.csv\")  # 请替换成你的文件路径\n",
    "df.columns = [\"label\", \"title\", \"description\"]  # CSV 有3列: 标签, 标题, 描述\n",
    "df[\"text\"] = df[\"title\"] + \" \" + df[\"description\"]  # 合并标题和描述作为输入文本\n",
    "df[\"label\"] = df[\"label\"] - 1  # AG NEWS 的标签是 1-4，我们转换成 0-3\n",
    "train_texts, train_labels = df[\"text\"].tolist(), df[\"label\"].tolist()\n",
    "number = int(0.3 * len(train_texts))\n",
    "train_texts, train_labels = train_texts[: number], train_labels[: number]\n",
    "\n",
    "df = pd.read_csv(\"test.csv\")  # 请替换成你的文件路径\n",
    "df.columns = [\"label\", \"title\", \"description\"]  # CSV 有3列: 标签, 标题, 描述\n",
    "df[\"text\"] = df[\"title\"] + \" \" + df[\"description\"]  # 合并标题和描述作为输入文本\n",
    "df[\"label\"] = df[\"label\"] - 1  # AG NEWS 的标签是 1-4，我们转换成 0-3\n",
    "test_texts, test_labels = df[\"text\"].tolist(), df[\"label\"].tolist()\n",
    "\n",
    "# **2. 加载 BERT Tokenizer**\n",
    "model_name = \"bert-base-uncased\"\n",
    "tokenizer = AutoTokenizer.from_pretrained(model_name)\n",
    "\n",
    "# **3. 处理数据**\n",
    "class AGNewsDataset(Dataset):\n",
    "    def __init__(self, texts, labels, tokenizer, max_length=50):\n",
    "        self.texts = texts\n",
    "        self.labels = labels\n",
    "        self.tokenizer = tokenizer\n",
    "        self.max_length = max_length\n",
    "\n",
    "    def __len__(self):\n",
    "        return len(self.texts)\n",
    "\n",
    "    def __getitem__(self, idx):\n",
    "        text = self.texts[idx]\n",
    "        label = self.labels[idx]\n",
    "        encoding = self.tokenizer(\n",
    "            text, truncation=True, padding=\"max_length\", max_length=self.max_length, return_tensors=\"pt\"\n",
    "        )\n",
    "        return {\n",
    "            \"input_ids\": encoding[\"input_ids\"].squeeze(0),\n",
    "            \"attention_mask\": encoding[\"attention_mask\"].squeeze(0),\n",
    "            \"labels\": torch.tensor(label, dtype=torch.long),\n",
    "        } # 此处会自动生成BERT输入所需要的attention_mask\n",
    "        \n",
    "\n",
    "train_dataset = AGNewsDataset(train_texts, train_labels, tokenizer)\n",
    "test_dataset = AGNewsDataset(test_texts, test_labels, tokenizer)\n",
    "\n",
    "train_dataloader = DataLoader(train_dataset, batch_size=16, shuffle=True)\n",
    "test_dataloader = DataLoader(test_dataset, batch_size=16, shuffle=False)\n",
    "\n",
    "# **4. 定义和加载BERT分类模型**\n",
    "#TODO:定义模型并且放到GPU上\n",
    "\n",
    "class BERTClassifier(nn.Module):\n",
    "    def __init__(self, model_name, num_labels):\n",
    "        super(BERTClassifier, self).__init__()\n",
    "        self.bert =\n",
    "        self.classifier = \n",
    "\n",
    "    def forward(self, input_ids, attention_mask):\n",
    "\n",
    "        return logits\n",
    "        \n",
    "model = BERTClassifier(model_name, num_labels=4).to(device)\n",
    "\n",
    "\n",
    "# **5. 设置优化器和损失函数**\n",
    "#TODO: 定义优化器和损失函数\n",
    "\n",
    "# **6. 训练 BERT**\n",
    "EPOCHS = 3\n",
    "\n",
    "for epoch in range(EPOCHS):\n",
    "    model.train()\n",
    "    total_loss = 0\n",
    "    loop = tqdm(train_dataloader, desc=f\"Epoch {epoch+1}\")\n",
    "\n",
    "    for batch in loop:\n",
    "        #TODO: 基于后面需要打印的损失，定义训练过程\n",
    "\n",
    "    print(f\"Epoch {epoch+1}, Loss: {total_loss/len(train_dataloader):.4f}\")\n",
    "\n",
    "    # **7. 评估模型**\n",
    "    model.eval()\n",
    "    preds, true_labels = [], []\n",
    "\n",
    "    with torch.no_grad():\n",
    "        for batch in test_dataloader:\n",
    "            #TODO: 基于后面计算acc需要的true_labels和preds，完善下面测试代码\n",
    "\n",
    "\n",
    "    acc = accuracy_score(true_labels, preds)\n",
    "    print(f\"Test Accuracy: {acc:.4f}\")"
   ]
  },
  {
   "cell_type": "markdown",
   "id": "f7f940fb28765a01",
   "metadata": {},
   "source": [
    " "
   ]
  },
  {
   "cell_type": "code",
   "execution_count": null,
   "id": "7181ba5e93a8336a",
   "metadata": {},
   "outputs": [],
   "source": [
    "训练笔记：你如果觉得训练速度慢，可以尝试增大batch size，不过注意不要炸显存。\n",
    "\n",
    "思考题1：你觉得以上三种得到句子嵌入的方案，哪种效果会最好，哪种效果会最差？为什么？\n",
    "\n",
    "思考题2：如果一个文档包括多个句子，我们需要获得其中每个句子的嵌入表示。那么，我们应该怎么利用BERT得到每个句子的嵌入？"
   ]
  },
  {
   "cell_type": "markdown",
   "id": "91deae1f06ccff3b",
   "metadata": {},
   "source": []
  }
 ],
 "metadata": {
  "kernelspec": {
   "display_name": "Python 3 (ipykernel)",
   "language": "python",
   "name": "python3"
  },
  "language_info": {
   "codemirror_mode": {
    "name": "ipython",
    "version": 3
   },
   "file_extension": ".py",
   "mimetype": "text/x-python",
   "name": "python",
   "nbconvert_exporter": "python",
   "pygments_lexer": "ipython3",
   "version": "3.7.10"
  }
 },
 "nbformat": 4,
 "nbformat_minor": 5
}
