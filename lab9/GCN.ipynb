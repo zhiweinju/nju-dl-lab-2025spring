{
 "cells": [
  {
   "cell_type": "raw",
   "id": "12378edc-412a-4f98-b879-cd987c94b1f9",
   "metadata": {},
   "source": [
    "在本次实验中，我们将使用 PyTorch Geometric(PyG) 构建我们自己的 Graph Neural Network(GNN). 然后将该模型应用于两个 Open Graph Benchmark (OGB) 数据集。这两个数据集将用于在两个不同的基于图的任务上对模型的性能进行基准测试：1) 节点属性预测，预测单个节点的属性和 2) 图属性预测，预测整个图或子图的属性。"
   ]
  },
  {
   "cell_type": "markdown",
   "id": "a8255dc1-8659-4831-afbf-acf750b9d045",
   "metadata": {},
   "source": [
    "首先，我们将了解 PyTorch Geometric 如何将图存储为 PyTorch 张量。\n",
    "\n",
    "然后，我们将使用 ogb 包加载和检查其中一个 Open Graph Benchmark (OGB) 数据集。OGB 是用于图机器学习的现实、大规模和多样化的基准数据集的集合。ogb 包不仅为每个数据集提供数据加载器，还提供模型评估器。\n",
    "\n",
    "最后，我们将使用 PyTorch Geometric 构建我们自己的 GNN。然后，我们将在 OGB 节点属性预测和图形属性预测任务上训练和评估我们的模型。"
   ]
  },
  {
   "cell_type": "markdown",
   "id": "0a09b246-d8a2-4070-82a9-ae8af2518c42",
   "metadata": {},
   "source": [
    "注意：确保按顺序运行每个部分中的所有单元，以便中间变量/包将延续到下一个单元 完成本次实验的时间约为两小时"
   ]
  },
  {
   "cell_type": "markdown",
   "id": "b3a96d77-b782-4cf2-a665-dda1f9764bbe",
   "metadata": {},
   "source": [
    "# 环境搭建"
   ]
  },
  {
   "cell_type": "code",
   "id": "e8e9845d6eb97db3",
   "metadata": {},
   "source": [
    "import os\n",
    "\n",
    "import torch\n",
    "print(\"PyTorch has version {}\".format(torch.__version__))"
   ],
   "outputs": [],
   "execution_count": null
  },
  {
   "cell_type": "markdown",
   "id": "af66607f-929d-44fd-baca-03407aef54f6",
   "metadata": {},
   "source": [
    "下载 PyG 的依赖，确保其与 torch 下载的版本契合，如果有问题可以查阅文档 [PyG's page](https://www.google.com/url?q=https%3A%2F%2Fpytorch-geometric.readthedocs.io%2Fen%2Flatest%2Fnotes%2Finstallation.html)"
   ]
  },
  {
   "cell_type": "code",
   "id": "8ded4ecf-0e46-4523-95d8-1b90965efbfa",
   "metadata": {
    "trusted": true
   },
   "source": [
    "# 安装 torch geometric\n",
    "import os\n",
    "import torch\n",
    "if 'IS_GRADESCOPE_ENV' not in os.environ:\n",
    "  torch_version = str(torch.__version__)\n",
    "  scatter_src = f\"https://pytorch-geometric.com/whl/torch-{torch_version}.html\"\n",
    "  sparse_src = f\"https://pytorch-geometric.com/whl/torch-{torch_version}.html\"\n",
    "  !pip install torch-scatter -f $scatter_src\n",
    "  !pip install torch-sparse -f $sparse_src\n",
    "  !pip install torch-geometric\n",
    "  !pip install ogb"
   ],
   "outputs": [],
   "execution_count": null
  },
  {
   "cell_type": "markdown",
   "id": "f84a29c4-ded5-46fb-b09d-c635f15e2ef5",
   "metadata": {},
   "source": [
    "# 1)PyG (数据集和数据)"
   ]
  },
  {
   "cell_type": "markdown",
   "id": "cf71c6cb-a786-4a3b-8fe0-e276b5a5211f",
   "metadata": {},
   "source": [
    "PyTorch Geometric 有两个用于存储和/或将图转换为张量格式的类。\n",
    "一个是 `torch_geometric.datasets`，它包含了各种常见的图数据集；\n",
    "另一个是 `torch_geometric.data`，它提供了将图转换为 PyTorch 张量的相关数据处理功能。"
   ]
  },
  {
   "cell_type": "markdown",
   "id": "674e55af-0f47-4331-b813-07d5096a6a91",
   "metadata": {},
   "source": [
    "在本节中，我们将学习如何将 `torch_geometric.datasets` 和 `torch_geometric.data` 结合使用。"
   ]
  },
  {
   "cell_type": "markdown",
   "id": "2f7bce83-461f-46d4-91a4-cb2f70d50f42",
   "metadata": {},
   "source": [
    "## PyG 数据集"
   ]
  },
  {
   "cell_type": "markdown",
   "id": "a2f057b4-ba89-48ee-9693-88753dc69b27",
   "metadata": {},
   "source": [
    "`torch_geometric.datasets` 类有许多图数据集，我们使用其一来探索其用法"
   ]
  },
  {
   "cell_type": "code",
   "id": "282a5ff6-de08-42ce-91f2-da9e5ad8a77b",
   "metadata": {
    "trusted": true
   },
   "source": [
    "from torch_geometric.datasets import TUDataset\n",
    "\n",
    "if 'IS_GRADESCOPE_ENV' not in os.environ:\n",
    "  root = './enzymes'\n",
    "  name = 'ENZYMES'\n",
    "\n",
    "  # ENZYMES(酶)数据集\n",
    "  pyg_dataset= TUDataset(root, name)\n",
    "\n",
    "  # 其中有六百个图\n",
    "  print(pyg_dataset)"
   ],
   "outputs": [],
   "execution_count": null
  },
  {
   "cell_type": "markdown",
   "id": "88e7f9b6-2500-48d9-b96a-fe272ec7f16c",
   "metadata": {},
   "source": [
    "### Question1: ENZYMES 数据集中有多少类，多少特征"
   ]
  },
  {
   "cell_type": "code",
   "id": "f574b927-2648-4734-8d0d-67e2a10a592d",
   "metadata": {
    "trusted": true
   },
   "source": [
    "def get_num_classes(pyg_dataset):\n",
    "  # TODO: 实现一个函数，接收一个 PyG 数据集对象，\n",
    "  # 并返回该数据集的类别数量。\n",
    "\n",
    "  num_classes =\n",
    "\n",
    "  ############# Your code here ############\n",
    "  ## (~1 行代码)\n",
    "  ## 注意：\n",
    "  ## 1. 自动补全功能可能会很有帮助。\n",
    "\n",
    "  #########################################\n",
    "\n",
    "  return num_classes\n",
    "\n",
    "def get_num_features(pyg_dataset):\n",
    "  # TODO: 实现一个函数，接收一个 PyG 数据集对象，\n",
    "  # 并返回该数据集的特征数量。\n",
    "\n",
    "  num_features =\n",
    "\n",
    "  ############# Your code here ############\n",
    "  ## (~1 行代码)\n",
    "  ## 注意：\n",
    "  ## 1. 自动补全功能可能会很有帮助。\n",
    "\n",
    "  #########################################\n",
    "\n",
    "  return num_features\n",
    "\n",
    "if 'IS_GRADESCOPE_ENV' not in os.environ:\n",
    "  num_classes = get_num_classes(pyg_dataset)\n",
    "  num_features = get_num_features(pyg_dataset)\n",
    "  print(\"{} dataset has {} classes\".format(name, num_classes))\n",
    "  print(\"{} dataset has {} features\".format(name, num_features))\n"
   ],
   "outputs": [],
   "execution_count": null
  },
  {
   "cell_type": "markdown",
   "id": "b776da97-25b1-4aa9-bf94-ffe36a5d8eea",
   "metadata": {},
   "source": [
    "## PyG 数据"
   ]
  },
  {
   "cell_type": "markdown",
   "id": "37cd92d9-c690-4424-9865-04491a6750e9",
   "metadata": {},
   "source": [
    "每个 PyG 数据集都存储了一个由 `torch_geometric.data.Data` 对象组成的列表，其中每个 `torch_geometric.data.Data` 对象表示一张图。\n",
    "\n",
    "我们可以通过索引数据集获取 `Data` 对象。 \n",
    "关于 `Data` 对象中包含哪些信息等更多内容，请参考[官方文档](https://pytorch-geometric.readthedocs.io/en/latest/modules/data.html#torch_geometric.data.Data)。"
   ]
  },
  {
   "cell_type": "markdown",
   "id": "43e8a790-db60-47be-8c15-c813a90bf1a1",
   "metadata": {},
   "source": [
    "### Question 2： ENZYMES 数据集中 index 为 100 的图的 label 是什么？"
   ]
  },
  {
   "cell_type": "code",
   "id": "fc2a3052-54bf-4165-832d-7e547d19b004",
   "metadata": {
    "trusted": true
   },
   "source": [
    "def get_graph_class(pyg_dataset, idx):\n",
    "  # TODO: 实现一个函数，接收一个 PyG 数据集对象，\n",
    "  # 和一个图在数据集中的索引，返回该图的类别/标签（为一个整数）。\n",
    "\n",
    "  label = -1\n",
    "\n",
    "  ############# Your code here ############\n",
    "  ## (~1 行代码)\n",
    "\n",
    "  #########################################\n",
    "\n",
    "  return label\n",
    "\n",
    "# 此处的 pyg_dataset 是用于图分类的数据集\n",
    "if 'IS_GRADESCOPE_ENV' not in os.environ:\n",
    "  graph_0 = pyg_dataset[0]\n",
    "  print(graph_0)\n",
    "  idx = 100\n",
    "  label = get_graph_class(pyg_dataset, idx)\n",
    "  print('Graph with index {} has label {}'.format(idx, label))\n"
   ],
   "outputs": [],
   "execution_count": null
  },
  {
   "cell_type": "markdown",
   "id": "f4a6d522-d39e-4029-a2bc-847484b4e7ef",
   "metadata": {},
   "source": [
    "### Question 3：index 为 200 的图有多少条边？"
   ]
  },
  {
   "cell_type": "code",
   "id": "29bf86d5-0578-43e7-bb06-f318e945f37a",
   "metadata": {
    "trusted": true
   },
   "source": [
    "def get_graph_num_edges(pyg_dataset, idx):\n",
    "  # TODO: 实现一个函数，接收一个 PyG 数据集对象，\n",
    "  # 和该数据集中某个图的索引，返回该图中的边数（整数）。\n",
    "  # 如果图是无向的，不应该重复计数边。\n",
    "  # 例如，在一个无向图 G 中，若两个节点 v 和 u 之间有一条边，\n",
    "  # 那么这条边只应该被计数一次。\n",
    "\n",
    "  num_edges = 0\n",
    "\n",
    "  ############# Your code here ############\n",
    "  ## 注意：\n",
    "  ## 1. 不能直接返回 data.num_edges\n",
    "  ## 2. 我们假设图是无向的\n",
    "  ## 3. 可以查看 PyG 数据集中自带的函数\n",
    "  ## （大约 4 行代码）\n",
    "\n",
    "  #########################################\n",
    "\n",
    "  return num_edges\n",
    "\n",
    "if 'IS_GRADESCOPE_ENV' not in os.environ:\n",
    "  idx = 200\n",
    "  num_edges = get_graph_num_edges(pyg_dataset, idx)\n",
    "  print('Graph with index {} has {} edges'.format(idx, num_edges))\n"
   ],
   "outputs": [],
   "execution_count": null
  },
  {
   "cell_type": "markdown",
   "id": "492a5392-9e21-48a4-93f4-658021e3d670",
   "metadata": {},
   "source": [
    "# 2) Open Graph Benchmark(OGB)"
   ]
  },
  {
   "cell_type": "markdown",
   "id": "17c77053-df08-4e6e-bf34-4014ce102648",
   "metadata": {},
   "source": [
    "**Open Graph Benchmark（OGB）** 是一个用于图机器学习的现实、大规模且多样化的基准数据集集合。\n",
    "\n",
    "这些数据集可以通过 OGB 的数据加载器（OGB Data Loader）**自动下载、处理并划分**。\n",
    "\n",
    "随后，可以使用 OGB 的评估器（OGB Evaluator）以统一的方式对模型性能进行评估。\n",
    "\n",
    "如果数据集自动下载速度较慢，可以从Nju Box下载：https://box.nju.edu.cn/d/5f1c0015382643c9be0d/"
   ]
  },
  {
   "cell_type": "markdown",
   "id": "d619f844-e8ea-472d-9e42-56d1573c3b01",
   "metadata": {},
   "source": [
    "## 数据集和数据"
   ]
  },
  {
   "cell_type": "markdown",
   "id": "49eb0fda-a91d-4612-8da5-fc1a73bb97cd",
   "metadata": {},
   "source": [
    "OGB 也支持 PyG 的数据集/数据的类。此处我们查看 `ogbn-arxiv` 数据集"
   ]
  },
  {
   "cell_type": "code",
   "id": "51ee2b03-b9df-4939-86db-151dc26ca486",
   "metadata": {
    "trusted": true
   },
   "source": [
    "import torch_geometric.transforms as T\n",
    "from ogb.nodeproppred import PygNodePropPredDataset\n",
    "\n",
    "\n",
    "\n",
    "if 'IS_GRADESCOPE_ENV' not in os.environ:\n",
    "  dataset_name = 'ogbn-arxiv'\n",
    "  # 加载数据集并转换为稀疏图\n",
    "  dataset = PygNodePropPredDataset(name=dataset_name,\n",
    "                                  transform=T.ToSparseTensor())\n",
    "  print('The {} dataset has {} graph'.format(dataset_name, len(dataset)))\n",
    "\n",
    "  # 分离一张图出来\n",
    "  data = dataset[0]\n",
    "  print(data)"
   ],
   "outputs": [],
   "execution_count": null
  },
  {
   "cell_type": "markdown",
   "id": "f2b0804a-8625-412d-b912-b27042d4de94",
   "metadata": {},
   "source": [
    "### Question 4: ogbn-arxiv 的图中有多少特征？"
   ]
  },
  {
   "cell_type": "code",
   "id": "ccfc3156-1c31-4d19-a94b-d3000f3e1d2d",
   "metadata": {
    "trusted": true
   },
   "source": [
    "def graph_num_features(data):\n",
    "  # TODO: 实现一个函数，接收一个 PyG 的 data 对象，\n",
    "  # 并返回该图的特征数量（为一个整数）。\n",
    "\n",
    "  num_features = 0\n",
    "\n",
    "  ############# Your code here ############\n",
    "  ## (~1 行代码)\n",
    "\n",
    "  #########################################\n",
    "\n",
    "  return num_features\n",
    "\n",
    "if 'IS_GRADESCOPE_ENV' not in os.environ:\n",
    "  num_features = graph_num_features(data)\n",
    "  print('The graph has {} features'.format(num_features))\n"
   ],
   "outputs": [],
   "execution_count": null
  },
  {
   "cell_type": "markdown",
   "id": "2a71f00f-d418-431a-a777-55ba390c2ba8",
   "metadata": {},
   "source": [
    "# 3） GNN：节点属性预测"
   ]
  },
  {
   "cell_type": "markdown",
   "id": "91dd48e0-c6c6-4527-880a-99449b3a816c",
   "metadata": {},
   "source": [
    "在本节中，我们将使用 PyTorch Geometric 构建第一个图神经网络。然后，我们会将其应用于**节点属性预测（节点分类）**任务。\n",
    "\n",
    "具体来说，我们将以 **GCN（图卷积网络）** 作为图神经网络的基础（参考 [Kipf 等人, 2017](https://arxiv.org/abs/1609.02907)）。  \n",
    "为此，我们将使用 PyG 内置的 `GCNConv` 层。"
   ]
  },
  {
   "cell_type": "markdown",
   "id": "afeec3fa-858e-4bec-9107-9f87a3c4a7bf",
   "metadata": {},
   "source": [
    "## 环境搭建"
   ]
  },
  {
   "cell_type": "code",
   "id": "f041ecb3-31ab-43a9-994b-178cef1576a7",
   "metadata": {
    "trusted": true
   },
   "source": [
    "import torch\n",
    "import pandas as pd\n",
    "import torch.nn.functional as F\n",
    "print(torch.__version__)\n",
    "\n",
    "# 使用 PyG 内建的 GCNConv\n",
    "from torch_geometric.nn import GCNConv\n",
    "\n",
    "import torch_geometric.transforms as T\n",
    "from ogb.nodeproppred import PygNodePropPredDataset, Evaluator"
   ],
   "outputs": [],
   "execution_count": null
  },
  {
   "cell_type": "markdown",
   "id": "d967cd2a-8cec-4208-90f4-bfcdbfcf8508",
   "metadata": {},
   "source": [
    "## 加载并处理数据"
   ]
  },
  {
   "cell_type": "code",
   "id": "f015f13d-d610-4804-8263-33bf712fed19",
   "metadata": {
    "trusted": true
   },
   "source": [
    "if 'IS_GRADESCOPE_ENV' not in os.environ:\n",
    "  dataset_name = 'ogbn-arxiv'\n",
    "  dataset = PygNodePropPredDataset(name=dataset_name,\n",
    "                                  transform=T.Compose([T.ToUndirected(),T.ToSparseTensor()]))\n",
    "  data = dataset[0]\n",
    "\n",
    "  device = 'cuda' if torch.cuda.is_available() else 'cpu'\n",
    "\n",
    "  # 如果你在使用 gpu ， device 应该是 cuda\n",
    "  print('Device: {}'.format(device))\n",
    "\n",
    "  data = data.to(device)\n",
    "  split_idx = dataset.get_idx_split()\n",
    "  train_idx = split_idx['train'].to(device)"
   ],
   "outputs": [],
   "execution_count": null
  },
  {
   "cell_type": "markdown",
   "id": "367e3df0-44f9-4406-b5ba-9af2aa08da17",
   "metadata": {},
   "source": [
    "## GCN 模型"
   ]
  },
  {
   "cell_type": "markdown",
   "id": "83b281c6-587b-4d0b-943c-f77ed237e709",
   "metadata": {},
   "source": [
    "现在我们来实现我们的 GCN 模型！\n",
    "\n",
    "请根据下图所示的结构来实现 `forward` 函数：\n",
    "![GCN 模型结构图](https://drive.google.com/uc?id=128AuYAXNXGg7PIhJJ7e420DoPWKb-RtL)"
   ]
  },
  {
   "cell_type": "code",
   "id": "b2e3f45a-1795-473a-8731-d1e5da0bd6ef",
   "metadata": {
    "trusted": true
   },
   "source": [
    "class GCN(torch.nn.Module):\n",
    "    def __init__(self, input_dim, hidden_dim, output_dim, num_layers,\n",
    "                 dropout, return_embeds=False):\n",
    "        # TODO: 实现一个函数来初始化 self.convs、self.bns 和 self.softmax。\n",
    "\n",
    "        super(GCN, self).__init__()\n",
    "\n",
    "        # 一个包含 GCNConv 层的列表\n",
    "        self.convs = None\n",
    "\n",
    "        # 一个包含一维批归一化层（BatchNorm1d）的列表\n",
    "        self.bns = None\n",
    "\n",
    "        # log softmax 层\n",
    "        self.softmax = None\n",
    "\n",
    "        ############# Your code here ############\n",
    "        ## 注意：\n",
    "        ## 1. self.convs 和 self.bns 应该使用 torch.nn.ModuleList\n",
    "        ## 2. self.convs 应包含 num_layers 个 GCNConv 层\n",
    "        ## 3. self.bns 应包含 num_layers - 1 个 BatchNorm1d 层\n",
    "        ## 4. self.softmax 应使用 torch.nn.LogSoftmax\n",
    "        ## 5. GCNConv 需要设置的参数包括 'in_channels' 和 'out_channels'\n",
    "        ##    更多信息请参考文档：\n",
    "        ##    https://pytorch-geometric.readthedocs.io/en/latest/modules/nn.html#torch_geometric.nn.conv.GCNConv\n",
    "        ## 6. BatchNorm1d 只需要设置 'num_features'\n",
    "        ##    更多信息请参考文档：\n",
    "        ##    https://pytorch.org/docs/stable/generated/torch.nn.BatchNorm1d.html\n",
    "        ## （大约 10 行代码）\n",
    "\n",
    "        #########################################\n",
    "\n",
    "        # 元素被置为 0 的概率（Dropout 概率）\n",
    "        self.dropout = dropout\n",
    "\n",
    "        # 是否跳过分类层并返回节点嵌入\n",
    "        self.return_embeds = return_embeds\n",
    "\n",
    "    def reset_parameters(self):\n",
    "        for conv in self.convs:\n",
    "            conv.reset_parameters()\n",
    "        for bn in self.bns:\n",
    "            bn.reset_parameters()\n",
    "\n",
    "    def forward(self, x, adj_t):\n",
    "        # TODO: 实现一个函数，接收特征张量 x 和边索引张量 adj_t，\n",
    "        # 并按结构图所示返回输出张量。\n",
    "\n",
    "        out = None\n",
    "\n",
    "        ############# Your code here ############\n",
    "        ## 注意：\n",
    "        ## 1. 按照结构图构建神经网络\n",
    "        ## 2. 可以使用 torch.nn.functional.relu 和 torch.nn.functional.dropout\n",
    "        ##    文档参考：https://pytorch.org/docs/stable/nn.functional.html\n",
    "        ## 3. 不要忘了将 F.dropout 的 training 参数设置为 self.training\n",
    "        ## 4. 如果 return_embeds 为 True，则跳过最后的 softmax 层\n",
    "        ## （大约 7 行代码）\n",
    "\n",
    "        #########################################\n",
    "\n",
    "        return out\n"
   ],
   "outputs": [],
   "execution_count": null
  },
  {
   "cell_type": "code",
   "id": "87354122-835b-4210-9ace-82ec6773a1b9",
   "metadata": {
    "trusted": true
   },
   "source": [
    "def train(model, data, train_idx, optimizer, loss_fn):\n",
    "    # TODO: 实现一个使用给定的优化器和损失函数训练模型的函数。\n",
    "    model.train()\n",
    "    loss = 0\n",
    "\n",
    "    ############# Your code here ############\n",
    "    ## 注意：\n",
    "    ## 1. 对优化器执行 zero grad（清除梯度）\n",
    "    ## 2. 将数据输入模型\n",
    "    ## 3. 使用 train_idx 对模型输出和标签进行切片\n",
    "    ## 4. 将切片后的输出和标签输入损失函数 loss_fn\n",
    "    ## （大约 4 行代码）\n",
    "\n",
    "    #########################################\n",
    "\n",
    "    loss.backward()\n",
    "    optimizer.step()\n",
    "\n",
    "    return loss.item()\n"
   ],
   "outputs": [],
   "execution_count": null
  },
  {
   "cell_type": "code",
   "id": "50944898-d126-4be5-9e86-1b1400dd9946",
   "metadata": {
    "trusted": true
   },
   "source": [
    "# 测试函数\n",
    "@torch.no_grad()\n",
    "def test(model, data, split_idx, evaluator, save_model_results=False):\n",
    "    # TODO: 实现一个使用给定的 split_idx 和 evaluator 来测试模型的函数。\n",
    "    model.eval()\n",
    "\n",
    "    # 模型在所有数据上的输出\n",
    "    out = None\n",
    "\n",
    "    ############# Your code here ############\n",
    "    ## （大约 1 行代码）\n",
    "    ## 注意：\n",
    "    ## 1. 此处不进行索引切片\n",
    "\n",
    "    #########################################\n",
    "\n",
    "    y_pred = out.argmax(dim=-1, keepdim=True)\n",
    "\n",
    "    train_acc = evaluator.eval({\n",
    "        'y_true': data.y[split_idx['train']],\n",
    "        'y_pred': y_pred[split_idx['train']],\n",
    "    })['acc']\n",
    "    valid_acc = evaluator.eval({\n",
    "        'y_true': data.y[split_idx['valid']],\n",
    "        'y_pred': y_pred[split_idx['valid']],\n",
    "    })['acc']\n",
    "    test_acc = evaluator.eval({\n",
    "        'y_true': data.y[split_idx['test']],\n",
    "        'y_pred': y_pred[split_idx['test']],\n",
    "    })['acc']\n",
    "\n",
    "    if save_model_results:\n",
    "      print (\"Saving Model Predictions\")\n",
    "\n",
    "      data = {}\n",
    "      data['y_pred'] = y_pred.view(-1).cpu().detach().numpy()\n",
    "\n",
    "      df = pd.DataFrame(data=data)\n",
    "      # 本地保存为 CSV 文件\n",
    "      df.to_csv('ogbn-arxiv_node.csv', sep=',', index=False)\n",
    "\n",
    "    return train_acc, valid_acc, test_acc\n"
   ],
   "outputs": [],
   "execution_count": null
  },
  {
   "cell_type": "code",
   "id": "7129111c-6ce4-495a-8dd3-805d08268567",
   "metadata": {
    "trusted": true
   },
   "source": [
    "# 请不要改变 args\n",
    "if 'IS_GRADESCOPE_ENV' not in os.environ:\n",
    "  args = {\n",
    "      'device': device,\n",
    "      'num_layers': 3,\n",
    "      'hidden_dim': 256,\n",
    "      'dropout': 0.5,\n",
    "      'lr': 0.01,\n",
    "      'epochs': 100,\n",
    "  }\n",
    "  args"
   ],
   "outputs": [],
   "execution_count": null
  },
  {
   "cell_type": "code",
   "id": "c2a6ad75-2f71-4311-9c34-af0d60c6a612",
   "metadata": {
    "trusted": true
   },
   "source": [
    "if 'IS_GRADESCOPE_ENV' not in os.environ:\n",
    "  model = GCN(data.num_features, args['hidden_dim'],\n",
    "              dataset.num_classes, args['num_layers'],\n",
    "              args['dropout']).to(device)\n",
    "  evaluator = Evaluator(name='ogbn-arxiv')"
   ],
   "outputs": [],
   "execution_count": null
  },
  {
   "cell_type": "code",
   "id": "0d8946ca-7aae-45e3-90a3-702c5aaffd66",
   "metadata": {
    "trusted": true
   },
   "source": [
    "# 请不要改变 args\n",
    "# 使用 GPU 训练应该小于 10 分钟\n",
    "import copy\n",
    "if 'IS_GRADESCOPE_ENV' not in os.environ:\n",
    "  # reset the parameters to initial random value\n",
    "  model.reset_parameters()\n",
    "\n",
    "  optimizer = torch.optim.Adam(model.parameters(), lr=args['lr'])\n",
    "  loss_fn = F.nll_loss\n",
    "\n",
    "  best_model = None\n",
    "  best_valid_acc = 0\n",
    "\n",
    "  for epoch in range(1, 1 + args[\"epochs\"]):\n",
    "    loss = train(model, data, train_idx, optimizer, loss_fn)\n",
    "    result = test(model, data, split_idx, evaluator)\n",
    "    train_acc, valid_acc, test_acc = result\n",
    "    if valid_acc > best_valid_acc:\n",
    "        best_valid_acc = valid_acc\n",
    "        best_model = copy.deepcopy(model)\n",
    "    print(f'Epoch: {epoch:02d}, '\n",
    "          f'Loss: {loss:.4f}, '\n",
    "          f'Train: {100 * train_acc:.2f}%, '\n",
    "          f'Valid: {100 * valid_acc:.2f}% '\n",
    "          f'Test: {100 * test_acc:.2f}%')"
   ],
   "outputs": [],
   "execution_count": null
  },
  {
   "cell_type": "markdown",
   "id": "5a8ba146-f025-4bbe-8da2-fd1c2ccc049a",
   "metadata": {},
   "source": [
    "### Question 5 ：你的**最佳模型**验证集和测试集精度如何？"
   ]
  },
  {
   "cell_type": "markdown",
   "id": "9885c987-2b43-411a-bb0d-9a8144c15532",
   "metadata": {},
   "source": [
    "运行下面的代码单元格，可以查看你最优模型的预测结果，  \n",
    "并将模型的预测保存到名为 `ogbn-arxiv_node.csv` 的文件中。"
   ]
  },
  {
   "cell_type": "code",
   "id": "c6145cd0-730d-4e24-a84e-910065ba56b6",
   "metadata": {
    "trusted": true
   },
   "source": [
    "if 'IS_GRADESCOPE_ENV' not in os.environ:\n",
    "  best_result = test(best_model, data, split_idx, evaluator, save_model_results=True)\n",
    "  train_acc, valid_acc, test_acc = best_result\n",
    "  print(f'Best model: '\n",
    "        f'Train: {100 * train_acc:.2f}%, '\n",
    "        f'Valid: {100 * valid_acc:.2f}% '\n",
    "        f'Test: {100 * test_acc:.2f}%')"
   ],
   "outputs": [],
   "execution_count": null
  },
  {
   "cell_type": "markdown",
   "id": "d7ef8744-c54a-450c-825f-fafd252d736e",
   "metadata": {},
   "source": [
    "# 4） GNN：图性质预测"
   ]
  },
  {
   "cell_type": "markdown",
   "id": "068f5853-5ae2-4375-8821-fc7078e58eba",
   "metadata": {},
   "source": [
    "在这一节中我们将创建一个为图性质预测的 GNN"
   ]
  },
  {
   "cell_type": "markdown",
   "id": "e240813b-9fdf-4de8-8f51-0612fc502664",
   "metadata": {},
   "source": [
    "## 加载并预处理数据集"
   ]
  },
  {
   "cell_type": "code",
   "id": "6fb19ef2-dac5-450e-81aa-4c773a5e219f",
   "metadata": {
    "trusted": true
   },
   "source": [
    "from ogb.graphproppred import PygGraphPropPredDataset, Evaluator\n",
    "from torch_geometric.data import DataLoader\n",
    "from tqdm import tqdm\n",
    "\n",
    "if 'IS_GRADESCOPE_ENV' not in os.environ:\n",
    "  # 加载数据集\n",
    "  dataset = PygGraphPropPredDataset(name='ogbg-molhiv')\n",
    "\n",
    "  device = 'cuda' if torch.cuda.is_available() else 'cpu'\n",
    "  print('Device: {}'.format(device))\n",
    "\n",
    "  split_idx = dataset.get_idx_split()\n",
    "\n",
    "  # 检查任务类型\n",
    "  print('Task type: {}'.format(dataset.task_type))"
   ],
   "outputs": [],
   "execution_count": null
  },
  {
   "cell_type": "code",
   "id": "1b8d6f17-d624-49e8-b299-0c46462573dc",
   "metadata": {
    "trusted": true
   },
   "source": [
    "# 将数据集划分加载到对应的 dataloader 中\n",
    "# 我们将在每批 32 个图上进行图分类任务的训练\n",
    "# 对训练集中的图顺序进行打乱\n",
    "if 'IS_GRADESCOPE_ENV' not in os.environ:\n",
    "  train_loader = DataLoader(dataset[split_idx[\"train\"]], batch_size=32, shuffle=True, num_workers=0)\n",
    "  valid_loader = DataLoader(dataset[split_idx[\"valid\"]], batch_size=32, shuffle=False, num_workers=0)\n",
    "  test_loader = DataLoader(dataset[split_idx[\"test\"]], batch_size=32, shuffle=False, num_workers=0)"
   ],
   "outputs": [],
   "execution_count": null
  },
  {
   "cell_type": "code",
   "id": "8a2c7ab3-20ab-4450-ab53-96ee2f07ef84",
   "metadata": {
    "trusted": true
   },
   "source": [
    "if 'IS_GRADESCOPE_ENV' not in os.environ:\n",
    "  # Please do not change the args\n",
    "  args = {\n",
    "      'device': device,\n",
    "      'num_layers': 5,\n",
    "      'hidden_dim': 256,\n",
    "      'dropout': 0.5,\n",
    "      'lr': 0.001,\n",
    "      'epochs': 30,\n",
    "  }\n",
    "  args"
   ],
   "outputs": [],
   "execution_count": null
  },
  {
   "cell_type": "markdown",
   "id": "4c0b82d0-68d0-4909-a83b-e6aecb15835c",
   "metadata": {},
   "source": [
    "## 图预测模型"
   ]
  },
  {
   "cell_type": "markdown",
   "id": "b76fc3c5-cff2-4371-96f7-ae20f775265d",
   "metadata": {},
   "source": [
    "图的 Mini-Batching（小批量处理）\n",
    "\n",
    "在正式进入模型之前，我们先介绍图数据的 mini-batching 概念。为了并行处理一小批图，  \n",
    "PyG 会将这些图组合成一个**不相连的大图**数据对象（`torch_geometric.data.Batch`）。\n",
    "\n",
    "`torch_geometric.data.Batch` 继承自之前介绍的 `torch_geometric.data.Data`，  \n",
    "并额外包含一个名为 `batch` 的属性。\n",
    "\n",
    "这个 `batch` 属性是一个向量，用来将每个节点映射到它在 mini-batch 中所属图的索引。例如：\n",
    "<code>batch = [0, ..., 0, 1, ..., 1, ..., n - 2, n - 1, ..., n - 1]<code>\n",
    "\n",
    "这个属性非常重要，它能帮助我们知道每个节点属于哪个图。  \n",
    "举个例子，它可以用来对每个图的节点嵌入进行平均，从而得到图级别的嵌入表示。"
   ]
  },
  {
   "cell_type": "markdown",
   "id": "be80d420-852d-42c4-9dbc-a5165b342943",
   "metadata": {},
   "source": [
    "### 补全"
   ]
  },
  {
   "cell_type": "code",
   "id": "354c0ff8-d226-4191-9639-7501c09b815e",
   "metadata": {
    "trusted": true
   },
   "source": [
    "现在，我们已经具备了实现 GCN 图预测模型所需的所有工具！\n",
    "\n",
    "我们将复用现有的 GCN 模型来生成 **节点嵌入（node_embeddings）**，  \n",
    "然后对节点进行 **全局池化（Global Pooling）**，从而得到每个图的**图级别嵌入（graph level embeddings）**，  \n",
    "这些嵌入将用于预测每个图的属性。\n",
    "\n",
    "请记住，`batch` 属性对于在 mini-batch 中执行全局池化操作是很重要的。"
   ],
   "outputs": [],
   "execution_count": null
  },
  {
   "cell_type": "code",
   "id": "e4745e00-05a5-4208-bf76-2b27c4e01cd5",
   "metadata": {
    "trusted": true
   },
   "source": [
    "from ogb.graphproppred.mol_encoder import AtomEncoder\n",
    "from torch_geometric.nn import global_add_pool, global_mean_pool\n",
    "\n",
    "### GCN 用于预测图属性\n",
    "class GCN_Graph(torch.nn.Module):\n",
    "    def __init__(self, hidden_dim, output_dim, num_layers, dropout):\n",
    "        super(GCN_Graph, self).__init__()\n",
    "\n",
    "        # 加载分子图中原子的编码器\n",
    "        self.node_encoder = AtomEncoder(hidden_dim)\n",
    "\n",
    "        # 节点嵌入模型\n",
    "        # 注意：输入维度和输出维度都设置为 hidden_dim\n",
    "        self.gnn_node = GCN(hidden_dim, hidden_dim,\n",
    "            hidden_dim, num_layers, dropout, return_embeds=True)\n",
    "\n",
    "        self.pool = None\n",
    "\n",
    "        ############# Your code here ############\n",
    "        ## 注意：\n",
    "        ## 1. 将 self.pool 初始化为全局平均池化层（global mean pooling）\n",
    "        ##    更多信息请参考文档：\n",
    "        ##    https://pytorch-geometric.readthedocs.io/en/latest/modules/nn.html#global-pooling-layers\n",
    "\n",
    "        #########################################\n",
    "\n",
    "        # 输出层\n",
    "        self.linear = torch.nn.Linear(hidden_dim, output_dim)\n",
    "\n",
    "\n",
    "    def reset_parameters(self):\n",
    "      self.gnn_node.reset_parameters()\n",
    "      self.linear.reset_parameters()\n",
    "\n",
    "    def forward(self, batched_data):\n",
    "        # TODO: 实现一个函数，输入是一批图（torch_geometric.data.Batch），\n",
    "        # 返回的是每个图的预测属性。\n",
    "        #\n",
    "        # 注意：由于我们预测的是图级别的属性，\n",
    "        # 输出张量的维度应该等于 mini-batch 中"
   ],
   "outputs": [],
   "execution_count": null
  },
  {
   "cell_type": "code",
   "id": "13b98918-c094-4e89-8114-1dd198e8f96c",
   "metadata": {
    "trusted": true
   },
   "source": [
    "def train(model, device, data_loader, optimizer, loss_fn):\n",
    "    # TODO: 实现一个使用给定优化器和损失函数训练模型的函数。\n",
    "    model.train()\n",
    "    loss = 0\n",
    "\n",
    "    for step, batch in enumerate(tqdm(data_loader, desc=\"Iteration\")):\n",
    "      batch = batch.to(device)\n",
    "\n",
    "      if batch.x.shape[0] == 1 or batch.batch[-1] == 0:\n",
    "          pass\n",
    "      else:\n",
    "        ## 在计算训练损失时忽略包含 nan 的目标（未标注样本）\n",
    "        is_labeled = batch.y == batch.y\n",
    "\n",
    "        ############# Your code here ############\n",
    "        ## 注意：\n",
    "        ## 1. 对优化器执行 zero grad（清除梯度）\n",
    "        ## 2. 将数据输入模型\n",
    "        ## 3. 使用 `is_labeled` 掩码过滤输出和标签\n",
    "        ## 4. 你可能需要将标签的类型转为 torch.float32\n",
    "        ## 5. 将输出和标签传入 loss_fn 计算损失\n",
    "        ## （大约 3 行代码）\n",
    "\n",
    "        #########################################\n",
    "\n",
    "        loss.backward()\n",
    "        optimizer.step()\n",
    "\n",
    "    return loss.item()\n"
   ],
   "outputs": [],
   "execution_count": null
  },
  {
   "cell_type": "code",
   "id": "0e3ff2ed-7b6a-4679-80db-ec5ecbce5b85",
   "metadata": {
    "trusted": true
   },
   "source": [
    "# 用于分析的函数\n",
    "def eval(model, device, loader, evaluator, save_model_results=False, save_file=None):\n",
    "    model.eval()\n",
    "    y_true = []\n",
    "    y_pred = []\n",
    "\n",
    "    for step, batch in enumerate(tqdm(loader, desc=\"Iteration\")):\n",
    "        batch = batch.to(device)\n",
    "\n",
    "        if batch.x.shape[0] == 1:\n",
    "            pass\n",
    "        else:\n",
    "            with torch.no_grad():\n",
    "                pred = model(batch)\n",
    "\n",
    "            y_true.append(batch.y.view(pred.shape).detach().cpu())\n",
    "            y_pred.append(pred.detach().cpu())\n",
    "\n",
    "    y_true = torch.cat(y_true, dim = 0).numpy()\n",
    "    y_pred = torch.cat(y_pred, dim = 0).numpy()\n",
    "\n",
    "    input_dict = {\"y_true\": y_true, \"y_pred\": y_pred}\n",
    "\n",
    "    if save_model_results:\n",
    "        print (\"Saving Model Predictions\")\n",
    "\n",
    "        # 创建一个包含两列的 pandas 数据框（DataFrame）\n",
    "        # y_pred | y_true\n",
    "        data = {}\n",
    "        data['y_pred'] = y_pred.reshape(-1)\n",
    "        data['y_true'] = y_true.reshape(-1)\n",
    "\n",
    "        df = pd.DataFrame(data=data)\n",
    "        # Save to csv\n",
    "        df.to_csv('ogbg-molhiv_graph_' + save_file + '.csv', sep=',', index=False)\n",
    "\n",
    "    return evaluator.eval(input_dict)"
   ],
   "outputs": [],
   "execution_count": null
  },
  {
   "cell_type": "code",
   "id": "0a6ecd5a-233a-45aa-8662-452e948b91cc",
   "metadata": {
    "trusted": true
   },
   "source": [
    "if 'IS_GRADESCOPE_ENV' not in os.environ:\n",
    "  model = GCN_Graph(args['hidden_dim'],\n",
    "              dataset.num_tasks, args['num_layers'],\n",
    "              args['dropout']).to(device)\n",
    "  evaluator = Evaluator(name='ogbg-molhiv')"
   ],
   "outputs": [],
   "execution_count": null
  },
  {
   "cell_type": "code",
   "id": "ee01caa2-e31a-46b4-b8a8-50f65b1913cd",
   "metadata": {
    "trusted": true
   },
   "source": [
    "import copy\n",
    "\n",
    "if 'IS_GRADESCOPE_ENV' not in os.environ:\n",
    "  model.reset_parameters()\n",
    "\n",
    "  optimizer = torch.optim.Adam(model.parameters(), lr=args['lr'])\n",
    "  loss_fn = torch.nn.BCEWithLogitsLoss()\n",
    "\n",
    "  best_model = None\n",
    "  best_valid_acc = 0\n",
    "\n",
    "  for epoch in range(1, 1 + args[\"epochs\"]):\n",
    "    print('Training...')\n",
    "    loss = train(model, device, train_loader, optimizer, loss_fn)\n",
    "\n",
    "    print('Evaluating...')\n",
    "    train_result = eval(model, device, train_loader, evaluator)\n",
    "    val_result = eval(model, device, valid_loader, evaluator)\n",
    "    test_result = eval(model, device, test_loader, evaluator)\n",
    "\n",
    "    train_acc, valid_acc, test_acc = train_result[dataset.eval_metric], val_result[dataset.eval_metric], test_result[dataset.eval_metric]\n",
    "    if valid_acc > best_valid_acc:\n",
    "        best_valid_acc = valid_acc\n",
    "        best_model = copy.deepcopy(model)\n",
    "    print(f'Epoch: {epoch:02d}, '\n",
    "          f'Loss: {loss:.4f}, '\n",
    "          f'Train: {100 * train_acc:.2f}%, '\n",
    "          f'Valid: {100 * valid_acc:.2f}% '\n",
    "          f'Test: {100 * test_acc:.2f}%')"
   ],
   "outputs": [],
   "execution_count": null
  },
  {
   "cell_type": "markdown",
   "id": "930a329e-3860-44a7-bbb1-30d4dbdc63ee",
   "metadata": {},
   "source": [
    "### Quesion 6： 你的最佳模型的验证/测试 ROC-AUC 分数多少？"
   ]
  },
  {
   "cell_type": "markdown",
   "id": "d4eedb6e-0e2d-4d37-aab3-0cbe3c3f77eb",
   "metadata": {},
   "source": [
    "运行下方的代码单元格，以查看你最优模型的预测结果，  \n",
    "并将预测分别保存为两个文件：`ogbg-molhiv_graph_valid.csv` 和 `ogbg-molhiv_graph_test.csv`。"
   ]
  },
  {
   "cell_type": "code",
   "id": "dfa1ed98-c3b5-4a0d-b76d-dfd7961e0e71",
   "metadata": {
    "trusted": true
   },
   "source": [
    "if 'IS_GRADESCOPE_ENV' not in os.environ:\n",
    "  train_auroc = eval(best_model, device, train_loader, evaluator)[dataset.eval_metric]\n",
    "  valid_auroc = eval(best_model, device, valid_loader, evaluator, save_model_results=True, save_file=\"valid\")[dataset.eval_metric]\n",
    "  test_auroc  = eval(best_model, device, test_loader, evaluator, save_model_results=True, save_file=\"test\")[dataset.eval_metric]\n",
    "\n",
    "  print(f'Best model: '\n",
    "      f'Train: {100 * train_auroc:.2f}%, '\n",
    "      f'Valid: {100 * valid_auroc:.2f}% '\n",
    "      f'Test: {100 * test_auroc:.2f}%')"
   ],
   "outputs": [],
   "execution_count": null
  },
  {
   "cell_type": "markdown",
   "id": "01c168ff-267c-4846-b384-4f1a0f76a278",
   "metadata": {},
   "source": [
    "### Question 7（选做）：在PyG中测试另外两种 global pooling"
   ]
  },
  {
   "cell_type": "code",
   "id": "43ac3fc3-0ad0-41cd-9b0d-7016bdac7876",
   "metadata": {
    "trusted": true
   },
   "source": [
    "############# Your code here ############"
   ],
   "outputs": [],
   "execution_count": null
  }
 ],
 "metadata": {
  "kernelspec": {
   "display_name": "pytorch",
   "language": "python",
   "name": "python3"
  },
  "language_info": {
   "codemirror_mode": {
    "name": "ipython",
    "version": 3
   },
   "file_extension": ".py",
   "mimetype": "text/x-python",
   "name": "python",
   "nbconvert_exporter": "python",
   "pygments_lexer": "ipython3",
   "version": "3.10.16"
  }
 },
 "nbformat": 4,
 "nbformat_minor": 5
}
